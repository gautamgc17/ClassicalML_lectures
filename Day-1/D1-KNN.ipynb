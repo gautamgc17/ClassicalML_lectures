{
 "cells": [
  {
   "cell_type": "markdown",
   "id": "f562f1b1",
   "metadata": {},
   "source": [
    "#### KNN - K Nearest Neighbours\n",
    "- Supervised ML technique used in classification and regression but is generally used for Classsification problems.\n",
    "- This non parametric algorithm is so simple that it doesn't do any actual “learning” — yet it is still heavily used in many computer vision algorithms\n",
    "- It is baseline algorithm in many applications - any algorithm should have accuracy greater or equal to knn\n",
    "- The K-nearest neighbor classifier offers an alternative approach to classification using lazy learning that allows us to make predictions without any model training but at the cost of expensive prediction step\n",
    "- KNN is a memory-based approach is that the classifier immediately adapts as we collect new training data\n",
    "- It has no learning process and prediction for new data points is made by looking at the nature of the nearest neighbours.\n",
    "\n",
    "Advantage: k-NN is a memory-based approach is that the classifier immediately adapts as we collect new training data.\n",
    "\n",
    "Disadvantage: The computational complexity for classifying new samples grows linearly with the number of samples in the training dataset in the worst-case scenario."
   ]
  },
  {
   "cell_type": "markdown",
   "id": "3975a014",
   "metadata": {},
   "source": [
    "#### Examples of real-life use of KNN:\n",
    "- Microbiology (for classifying cells)\n",
    "- Marketing (for customer segmentation)\n",
    "- Credit Fault Analytics\n",
    "- K-nearest neighbor is also used in retail to detect patterns in credit card usage. Many new transaction-scrutinizing software applications use kNN algorithms to analyze register data and spot unusual patterns that indicate suspicious activity.\n",
    "\n",
    "- For example, if register data indicates that a lot of customer information is being entered manually rather than through automated scanning and swiping, this could indicate that the employee who’s using that register is in fact stealing customer’s personal information. Or if register data indicates that a particular good is being returned or exchanged multiple times, this could indicate that employees are misusing the return policy or trying to make money from doing fake returns.\n",
    "\n",
    "- The modern systems are now able to use k-nearest neighbor for visual pattern recognition to scan and detect hidden packages in the bottom bin of a shopping cart at check-out. If an object is detected that’s an exact match for an object listed in the database, then the price of the spotted product could even automatically be added to the customer’s bill. While this automated billing practice is not used extensively at this time, the technology has been developed and is available for use."
   ]
  },
  {
   "cell_type": "markdown",
   "id": "5966fb70",
   "metadata": {},
   "source": [
    "#### TIME COMPLEXITY\n",
    "\n",
    "- Train : O(1) as it is non parametric algorithm (not learn any parameters in training data ; like in regression algorithm we learn m and c from training data) . Here , we are doing computation directly on Run-Time\n",
    "- Test : O(NQ) where N is no of samples in training data and Q is no of samples in test data"
   ]
  },
  {
   "cell_type": "code",
   "execution_count": null,
   "id": "433ebbc9",
   "metadata": {},
   "outputs": [],
   "source": []
  },
  {
   "cell_type": "markdown",
   "id": "62c2fdfa",
   "metadata": {},
   "source": [
    "#### Building KNN Model\n",
    "- Plot the training dataset\n",
    "- Locate the new 'test' instance\n",
    "- Calculate the distance from all train data points\n",
    "- Sort the distance list in ascending order\n",
    "- Choose first K distances from the sorted list and their corresponding output\n",
    "- Make prediction for datapoint based on k-nearest neighbours - take Mode of labels of the nearest neighbours i.e Assign the class label by majority vote\n",
    "- For Classification problems - New Instance = MODE and for Regression problems - New Instance = MEAN\n",
    "\n",
    "#### Determining right value of K using Elbow Method\n",
    "- Choose a range of values of K - min : 1 and max : n (no of data points)\n",
    "- For each value , implement a KNN Model\n",
    "- Calculate error corresponding to each K value and plot it (K-value on X-axis and Error on Y-axis) and choose value of K with minimum error in Elbow Curve"
   ]
  },
  {
   "cell_type": "code",
   "execution_count": null,
   "id": "7d300fcc",
   "metadata": {},
   "outputs": [],
   "source": []
  },
  {
   "cell_type": "markdown",
   "id": "b035b668",
   "metadata": {},
   "source": [
    "#### Issues with Distance based Algorithms\n",
    "- Takes the distance between points into account\n",
    "\n",
    "- Fails when variables have different scales because there is a huge different in the scale and relative distance between points changes which might lead to ambiguous interpretations\n",
    "\n",
    "- While working with any distance based algorithm , make sure there is no large differences in the variables and ensure that you scale your variables down and bring them to the same scale range\n",
    "\n",
    "- Therefore, standardization or normalization is very important"
   ]
  },
  {
   "cell_type": "code",
   "execution_count": 1,
   "id": "f53d2b4a",
   "metadata": {},
   "outputs": [],
   "source": [
    "import numpy as np\n",
    "import pandas as pd\n",
    "import matplotlib.pyplot as plt\n",
    "import warnings\n",
    "warnings.filterwarnings('ignore')\n",
    "from sklearn import datasets "
   ]
  },
  {
   "cell_type": "code",
   "execution_count": 2,
   "id": "5a2f5969",
   "metadata": {},
   "outputs": [
    {
     "data": {
      "text/html": [
       "<div>\n",
       "<style scoped>\n",
       "    .dataframe tbody tr th:only-of-type {\n",
       "        vertical-align: middle;\n",
       "    }\n",
       "\n",
       "    .dataframe tbody tr th {\n",
       "        vertical-align: top;\n",
       "    }\n",
       "\n",
       "    .dataframe thead th {\n",
       "        text-align: right;\n",
       "    }\n",
       "</style>\n",
       "<table border=\"1\" class=\"dataframe\">\n",
       "  <thead>\n",
       "    <tr style=\"text-align: right;\">\n",
       "      <th></th>\n",
       "      <th>Survived</th>\n",
       "      <th>Age</th>\n",
       "      <th>Fare</th>\n",
       "      <th>Pclass_1</th>\n",
       "      <th>Pclass_2</th>\n",
       "      <th>Pclass_3</th>\n",
       "      <th>Sex_female</th>\n",
       "      <th>Sex_male</th>\n",
       "      <th>SibSp_0</th>\n",
       "      <th>SibSp_1</th>\n",
       "      <th>...</th>\n",
       "      <th>Parch_0</th>\n",
       "      <th>Parch_1</th>\n",
       "      <th>Parch_2</th>\n",
       "      <th>Parch_3</th>\n",
       "      <th>Parch_4</th>\n",
       "      <th>Parch_5</th>\n",
       "      <th>Parch_6</th>\n",
       "      <th>Embarked_C</th>\n",
       "      <th>Embarked_Q</th>\n",
       "      <th>Embarked_S</th>\n",
       "    </tr>\n",
       "  </thead>\n",
       "  <tbody>\n",
       "    <tr>\n",
       "      <th>0</th>\n",
       "      <td>0</td>\n",
       "      <td>22.0</td>\n",
       "      <td>7.2500</td>\n",
       "      <td>0</td>\n",
       "      <td>0</td>\n",
       "      <td>1</td>\n",
       "      <td>0</td>\n",
       "      <td>1</td>\n",
       "      <td>0</td>\n",
       "      <td>1</td>\n",
       "      <td>...</td>\n",
       "      <td>1</td>\n",
       "      <td>0</td>\n",
       "      <td>0</td>\n",
       "      <td>0</td>\n",
       "      <td>0</td>\n",
       "      <td>0</td>\n",
       "      <td>0</td>\n",
       "      <td>0</td>\n",
       "      <td>0</td>\n",
       "      <td>1</td>\n",
       "    </tr>\n",
       "    <tr>\n",
       "      <th>1</th>\n",
       "      <td>1</td>\n",
       "      <td>38.0</td>\n",
       "      <td>71.2833</td>\n",
       "      <td>1</td>\n",
       "      <td>0</td>\n",
       "      <td>0</td>\n",
       "      <td>1</td>\n",
       "      <td>0</td>\n",
       "      <td>0</td>\n",
       "      <td>1</td>\n",
       "      <td>...</td>\n",
       "      <td>1</td>\n",
       "      <td>0</td>\n",
       "      <td>0</td>\n",
       "      <td>0</td>\n",
       "      <td>0</td>\n",
       "      <td>0</td>\n",
       "      <td>0</td>\n",
       "      <td>1</td>\n",
       "      <td>0</td>\n",
       "      <td>0</td>\n",
       "    </tr>\n",
       "    <tr>\n",
       "      <th>2</th>\n",
       "      <td>1</td>\n",
       "      <td>26.0</td>\n",
       "      <td>7.9250</td>\n",
       "      <td>0</td>\n",
       "      <td>0</td>\n",
       "      <td>1</td>\n",
       "      <td>1</td>\n",
       "      <td>0</td>\n",
       "      <td>1</td>\n",
       "      <td>0</td>\n",
       "      <td>...</td>\n",
       "      <td>1</td>\n",
       "      <td>0</td>\n",
       "      <td>0</td>\n",
       "      <td>0</td>\n",
       "      <td>0</td>\n",
       "      <td>0</td>\n",
       "      <td>0</td>\n",
       "      <td>0</td>\n",
       "      <td>0</td>\n",
       "      <td>1</td>\n",
       "    </tr>\n",
       "    <tr>\n",
       "      <th>3</th>\n",
       "      <td>1</td>\n",
       "      <td>35.0</td>\n",
       "      <td>53.1000</td>\n",
       "      <td>1</td>\n",
       "      <td>0</td>\n",
       "      <td>0</td>\n",
       "      <td>1</td>\n",
       "      <td>0</td>\n",
       "      <td>0</td>\n",
       "      <td>1</td>\n",
       "      <td>...</td>\n",
       "      <td>1</td>\n",
       "      <td>0</td>\n",
       "      <td>0</td>\n",
       "      <td>0</td>\n",
       "      <td>0</td>\n",
       "      <td>0</td>\n",
       "      <td>0</td>\n",
       "      <td>0</td>\n",
       "      <td>0</td>\n",
       "      <td>1</td>\n",
       "    </tr>\n",
       "    <tr>\n",
       "      <th>4</th>\n",
       "      <td>0</td>\n",
       "      <td>35.0</td>\n",
       "      <td>8.0500</td>\n",
       "      <td>0</td>\n",
       "      <td>0</td>\n",
       "      <td>1</td>\n",
       "      <td>0</td>\n",
       "      <td>1</td>\n",
       "      <td>1</td>\n",
       "      <td>0</td>\n",
       "      <td>...</td>\n",
       "      <td>1</td>\n",
       "      <td>0</td>\n",
       "      <td>0</td>\n",
       "      <td>0</td>\n",
       "      <td>0</td>\n",
       "      <td>0</td>\n",
       "      <td>0</td>\n",
       "      <td>0</td>\n",
       "      <td>0</td>\n",
       "      <td>1</td>\n",
       "    </tr>\n",
       "  </tbody>\n",
       "</table>\n",
       "<p>5 rows × 25 columns</p>\n",
       "</div>"
      ],
      "text/plain": [
       "   Survived   Age     Fare  Pclass_1  Pclass_2  Pclass_3  Sex_female  \\\n",
       "0         0  22.0   7.2500         0         0         1           0   \n",
       "1         1  38.0  71.2833         1         0         0           1   \n",
       "2         1  26.0   7.9250         0         0         1           1   \n",
       "3         1  35.0  53.1000         1         0         0           1   \n",
       "4         0  35.0   8.0500         0         0         1           0   \n",
       "\n",
       "   Sex_male  SibSp_0  SibSp_1  ...  Parch_0  Parch_1  Parch_2  Parch_3  \\\n",
       "0         1        0        1  ...        1        0        0        0   \n",
       "1         0        0        1  ...        1        0        0        0   \n",
       "2         0        1        0  ...        1        0        0        0   \n",
       "3         0        0        1  ...        1        0        0        0   \n",
       "4         1        1        0  ...        1        0        0        0   \n",
       "\n",
       "   Parch_4  Parch_5  Parch_6  Embarked_C  Embarked_Q  Embarked_S  \n",
       "0        0        0        0           0           0           1  \n",
       "1        0        0        0           1           0           0  \n",
       "2        0        0        0           0           0           1  \n",
       "3        0        0        0           0           0           1  \n",
       "4        0        0        0           0           0           1  \n",
       "\n",
       "[5 rows x 25 columns]"
      ]
     },
     "execution_count": 2,
     "metadata": {},
     "output_type": "execute_result"
    }
   ],
   "source": [
    "# LOAD THE DATA\n",
    "# cleaned version of Titanic Survivor Dataset - computed missing values and all categorical values are encoded in numbers\n",
    "\n",
    "data = pd.read_csv('titanic-data-for-knn.csv') \n",
    "data.head()"
   ]
  },
  {
   "cell_type": "code",
   "execution_count": 3,
   "id": "25b40ce9",
   "metadata": {},
   "outputs": [
    {
     "data": {
      "text/plain": [
       "(891, 25)"
      ]
     },
     "execution_count": 3,
     "metadata": {},
     "output_type": "execute_result"
    }
   ],
   "source": [
    "data.shape"
   ]
  },
  {
   "cell_type": "code",
   "execution_count": 4,
   "id": "d829bd53",
   "metadata": {},
   "outputs": [
    {
     "data": {
      "text/plain": [
       "0    549\n",
       "1    342\n",
       "Name: Survived, dtype: int64"
      ]
     },
     "execution_count": 4,
     "metadata": {},
     "output_type": "execute_result"
    }
   ],
   "source": [
    "data['Survived'].value_counts()"
   ]
  },
  {
   "cell_type": "code",
   "execution_count": 5,
   "id": "e50562b7",
   "metadata": {},
   "outputs": [
    {
     "name": "stdout",
     "output_type": "stream",
     "text": [
      "(891, 24) (891,)\n"
     ]
    }
   ],
   "source": [
    "# SEGREGATING VARIABLES - INDEPENDENT AND DEPENDENT VARIABLES\n",
    "\n",
    "x = data.iloc[:,1:]\n",
    "y = data['Survived']      \n",
    "print(x.shape , y.shape)"
   ]
  },
  {
   "cell_type": "code",
   "execution_count": 6,
   "id": "5476b507",
   "metadata": {},
   "outputs": [
    {
     "name": "stdout",
     "output_type": "stream",
     "text": [
      "(712, 24) (179, 24) (712,) (179,)\n"
     ]
    }
   ],
   "source": [
    "# Split into train and test data\n",
    "\n",
    "from sklearn.model_selection import train_test_split\n",
    "\n",
    "x_train , x_test , y_train , y_test = train_test_split(x , y , random_state=0 , test_size=0.2 , stratify=y)\n",
    "print(x_train.shape , x_test.shape , y_train.shape , y_test.shape)"
   ]
  },
  {
   "cell_type": "code",
   "execution_count": 7,
   "id": "00aa9360",
   "metadata": {},
   "outputs": [],
   "source": [
    "# Normalize the data into range 0 and 1\n",
    "\n",
    "from sklearn.preprocessing import MinMaxScaler\n",
    "scaler = MinMaxScaler()\n",
    "\n",
    "x_train_scaled = scaler.fit_transform(x_train)\n",
    "x_test_scaled = scaler.transform(x_test)"
   ]
  },
  {
   "cell_type": "code",
   "execution_count": 8,
   "id": "df812be0",
   "metadata": {},
   "outputs": [
    {
     "name": "stdout",
     "output_type": "stream",
     "text": [
      "Training Acc: 0.8553370786516854\n",
      "Test Acc: 0.7653631284916201\n"
     ]
    }
   ],
   "source": [
    "# Implement knn classifier now\n",
    "\n",
    "from sklearn.neighbors import KNeighborsClassifier\n",
    "clf = KNeighborsClassifier()\n",
    "\n",
    "clf.fit(x_train_scaled , y_train)\n",
    "\n",
    "print(\"Training Acc: \" + str(clf.score(x_train_scaled , y_train)))\n",
    "print(\"Test Acc: \"+  str(clf.score(x_test_scaled , y_test)))"
   ]
  },
  {
   "cell_type": "code",
   "execution_count": 9,
   "id": "fe594004",
   "metadata": {},
   "outputs": [
    {
     "data": {
      "text/plain": [
       "array([0.86111111, 0.79166667, 0.81690141, 0.73239437, 0.73239437,\n",
       "       0.77464789, 0.74647887, 0.8028169 , 0.78873239, 0.78873239])"
      ]
     },
     "execution_count": 9,
     "metadata": {},
     "output_type": "execute_result"
    }
   ],
   "source": [
    "# Checking cross validation scores on Train set\n",
    "\n",
    "from sklearn.metrics import f1_score , accuracy_score\n",
    "from sklearn.model_selection import cross_val_score , KFold\n",
    "\n",
    "cross_val_score(clf , x_train_scaled , y_train , cv=KFold(10 , shuffle=True , random_state=0))"
   ]
  },
  {
   "cell_type": "code",
   "execution_count": 10,
   "id": "18150e4b",
   "metadata": {},
   "outputs": [
    {
     "name": "stdout",
     "output_type": "stream",
     "text": [
      "0.7835876369327073\n",
      "0.03782347183479312\n"
     ]
    }
   ],
   "source": [
    "print(cross_val_score(clf , x_train_scaled , y_train , cv=KFold(10 , shuffle=True , random_state=0)).mean())\n",
    "print(cross_val_score(clf , x_train_scaled , y_train , cv=KFold(10 , shuffle=True , random_state=0)).std())"
   ]
  },
  {
   "cell_type": "code",
   "execution_count": 11,
   "id": "525b3339",
   "metadata": {},
   "outputs": [],
   "source": [
    "# Visualizing cross validation scores for different values of K neighbours\n",
    "\n",
    "x_axis = []\n",
    "y_axis = []\n",
    "vals = []\n",
    "\n",
    "for i in range(1, 100, 2):\n",
    "    \n",
    "    clf = KNeighborsClassifier(n_neighbors = i)\n",
    "    score = cross_val_score(clf , x_train_scaled , y_train , cv = 5).mean()\n",
    "\n",
    "    x_axis.append(i)\n",
    "    y_axis.append(score)  \n",
    "    \n",
    "    vals.append((score , i))"
   ]
  },
  {
   "cell_type": "code",
   "execution_count": 12,
   "id": "44dae749",
   "metadata": {},
   "outputs": [
    {
     "data": {
      "image/png": "[encoded data removed]",
      "text/plain": [
       "<Figure size 432x288 with 1 Axes>"
      ]
     },
     "metadata": {},
     "output_type": "display_data"
    }
   ],
   "source": [
    "plt.style.use('seaborn-whitegrid')\n",
    "plt.plot(x_axis , y_axis)\n",
    "\n",
    "plt.xlabel('K Neighbors' , fontsize = 14)\n",
    "plt.ylabel('Cross Validation Scores' , fontsize = 14)\n",
    "plt.title('Cross-Validation' , fontsize = 16)\n",
    "plt.show()"
   ]
  },
  {
   "cell_type": "code",
   "execution_count": 14,
   "id": "c7cd1333",
   "metadata": {},
   "outputs": [
    {
     "data": {
      "text/plain": [
       "[(0.8061755146262188, 17),\n",
       " (0.806155816014971, 11),\n",
       " (0.8019698611247907, 15),\n",
       " (0.8019698611247907, 13),\n",
       " (0.8004826159755737, 3)]"
      ]
     },
     "execution_count": 14,
     "metadata": {},
     "output_type": "execute_result"
    }
   ],
   "source": [
    "# Top-5 best values for K\n",
    "\n",
    "vals = list(zip(y_axis , x_axis))\n",
    "sorted(vals , reverse=True)[:5]"
   ]
  },
  {
   "cell_type": "code",
   "execution_count": 26,
   "id": "a4e55dd0",
   "metadata": {},
   "outputs": [],
   "source": [
    "# ELBOW CURVE - CALCULATING ERROR FOR DIFFERENT VALUES OF K\n",
    "\n",
    "errors = []\n",
    "x_axis = []\n",
    "vals = []\n",
    "\n",
    "for i in range(1,50,2):\n",
    "    \n",
    "    clf = KNeighborsClassifier(n_neighbors = i)\n",
    "    clf.fit(x_train_scaled , y_train)\n",
    "    \n",
    "    y_pred = clf.predict(x_test_scaled)\n",
    "    \n",
    "    score = f1_score(y_pred , y_test)\n",
    "    err = 1-score\n",
    "    \n",
    "    errors.append(err)\n",
    "    x_axis.append(i)\n",
    "    \n",
    "    vals.append((err , i))   "
   ]
  },
  {
   "cell_type": "code",
   "execution_count": 27,
   "id": "683677b7",
   "metadata": {},
   "outputs": [
    {
     "data": {
      "image/png": "[encoded data removed]",
      "text/plain": [
       "<Figure size 432x288 with 1 Axes>"
      ]
     },
     "metadata": {},
     "output_type": "display_data"
    }
   ],
   "source": [
    "plt.plot(x_axis , errors)\n",
    "\n",
    "plt.xlabel('K Neighbors' , fontsize = 13)\n",
    "plt.ylabel('Test Error' , fontsize = 13)\n",
    "plt.title('Elbow Curve for Test' , fontsize = 16)\n",
    "plt.show()"
   ]
  },
  {
   "cell_type": "code",
   "execution_count": 28,
   "id": "7d4ea533",
   "metadata": {},
   "outputs": [
    {
     "data": {
      "text/plain": [
       "[(0.29032258064516137, 31),\n",
       " (0.2972972972972975, 49),\n",
       " (0.2977099236641222, 11),\n",
       " (0.3008130081300814, 27),\n",
       " (0.3035714285714285, 45)]"
      ]
     },
     "execution_count": 28,
     "metadata": {},
     "output_type": "execute_result"
    }
   ],
   "source": [
    "vals = list(zip(errors , x_axis))\n",
    "sorted(vals)[:5]"
   ]
  },
  {
   "cell_type": "code",
   "execution_count": 29,
   "id": "37cd32e4",
   "metadata": {},
   "outputs": [
    {
     "data": {
      "text/plain": [
       "KNeighborsClassifier(n_neighbors=31)"
      ]
     },
     "execution_count": 29,
     "metadata": {},
     "output_type": "execute_result"
    }
   ],
   "source": [
    "# Final prediction with best K value\n",
    "\n",
    "# CREATING INSTANCE OF KNN Classifier\n",
    "clf = KNeighborsClassifier(n_neighbors = 31)\n",
    "clf.fit(x_train_scaled , y_train)  "
   ]
  },
  {
   "cell_type": "code",
   "execution_count": 32,
   "id": "756275d5",
   "metadata": {},
   "outputs": [
    {
     "name": "stdout",
     "output_type": "stream",
     "text": [
      "Test Accuracy Score  79.88826815642457\n"
     ]
    }
   ],
   "source": [
    "# Making Predictions and Evaluating\n",
    "\n",
    "test_predict = clf.predict(x_test_scaled)\n",
    "acc = accuracy_score(test_predict , y_test)\n",
    "print('Test Accuracy Score ', acc*100)"
   ]
  },
  {
   "cell_type": "code",
   "execution_count": null,
   "id": "507feeb4",
   "metadata": {},
   "outputs": [],
   "source": []
  }
 ],
 "metadata": {
  "kernelspec": {
   "display_name": "Python 3",
   "language": "python",
   "name": "python3"
  },
  "language_info": {
   "codemirror_mode": {
    "name": "ipython",
    "version": 3
   },
   "file_extension": ".py",
   "mimetype": "text/x-python",
   "name": "python",
   "nbconvert_exporter": "python",
   "pygments_lexer": "ipython3",
   "version": "3.8.8"
  }
 },
 "nbformat": 4,
 "nbformat_minor": 5
}
