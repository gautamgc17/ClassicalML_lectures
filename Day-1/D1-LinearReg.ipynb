{
 "cells": [
  {
   "cell_type": "markdown",
   "id": "07491850",
   "metadata": {},
   "source": [
    "#### WHAT IS REGRESSION ANALYSIS\n",
    "\n",
    "- Regression analysis is a form of predictive modelling technique which investigates the relationship between a dependent (target) and independent variable (s) (predictor). This technique Is used for forecasting, time series modelling and finding the causal effect relationship between the variables. For example, relationship between rash driving and number of road accidents by a driver Is best studied through regression.\n",
    "\n",
    "- Regression analysis is an important tool for modelling and analyzing data. Here we fit a curve/ line to the data points in such a manner that the differences between the distances of data points trom the curve or line is minimized.\n",
    "\n",
    "\n",
    "#### WHY DO WE USE REGRESSION\n",
    "\n",
    "- Regression analysis estimates the relationship between two or more variables. For example:\n",
    "\n",
    "- Let's say you want to estimate growth in sales of a company based on current economic conditions. You have the recent company data which indicates that the growth in sales is around two and a half times the growth in the economy. Using this insight, we can predict future sales of the company based on current & past information.\n",
    "\n",
    "- There are multiple benefits of using regression analysis. They are as follows:\n",
    "\n",
    "    1. It indicates the significant relationships between dependent variable and independent variable.\n",
    "\n",
    "    2. It indicates the strength of impact of multiple independent variables on a dependent variable.\n",
    "\n",
    "\n",
    "- Regression analysis also allows us to compare the effects of variables measured on different scales, such as the effect of price changes and the number of promotional activities. These benefits help market researchers / data analysts data scientists to eliminate and evaluate the best set of variables to be used for building predictive models.\n",
    "\n",
    "#### TYPES OF REGRESSION\n",
    "There are various types of regression techniques available to make predictions. These techniques are mostly driven by three metrics ( number of independent variables , type of dependent variables , shape of regression line)\n",
    "\n",
    "- Linear Regression\n",
    "- Logistic Regression\n",
    "- Ridge Regression\n",
    "- Lasso Regression"
   ]
  },
  {
   "cell_type": "code",
   "execution_count": null,
   "id": "b2aacf89",
   "metadata": {},
   "outputs": [],
   "source": []
  },
  {
   "cell_type": "markdown",
   "id": "84788f66",
   "metadata": {},
   "source": [
    "#### GRADIENT DESCENT\n",
    "- Gradient Descent is Optimisation Technique\n",
    "- Minimises Error Generated\n",
    "- Works Iteratively , Calculating error at each Iteration\n",
    "- Optimises Model Parameters\n",
    "- Until model converges to Minimal Cost\n",
    "- Iterative approach in which we take small steps in direction of decreasing gradient until it becomes zero at optimal value of theta\n",
    "\n",
    "#### GRADIENT DESCENT IN LINEAR REGRESSION :\n",
    "\n",
    "- Random Initialisation\n",
    "- Generating Predictions\n",
    "- Calculating Cost\n",
    "- Updating Parameters"
   ]
  },
  {
   "cell_type": "code",
   "execution_count": null,
   "id": "8fb92f77",
   "metadata": {},
   "outputs": [],
   "source": []
  },
  {
   "cell_type": "markdown",
   "id": "73f6116a",
   "metadata": {},
   "source": [
    "#### AIM : \n",
    "Predict the percentage of student based on no. of study hours using Linear Regression"
   ]
  },
  {
   "cell_type": "code",
   "execution_count": 4,
   "id": "7a7a9dc3",
   "metadata": {},
   "outputs": [],
   "source": [
    "# Importing the required Libraries\n",
    "\n",
    "import pandas as pd\n",
    "import numpy as np\n",
    "import matplotlib.pyplot as plt\n",
    "import seaborn as sns"
   ]
  },
  {
   "cell_type": "code",
   "execution_count": 5,
   "id": "de4d7ed2",
   "metadata": {},
   "outputs": [
    {
     "name": "stdout",
     "output_type": "stream",
     "text": [
      "Dataset imported successfully!!\n"
     ]
    }
   ],
   "source": [
    "# Loading the dataset\n",
    "\n",
    "url = 'http://bit.ly/w-data'\n",
    "df = pd.read_csv(url)\n",
    "print('Dataset imported successfully!!')"
   ]
  },
  {
   "cell_type": "code",
   "execution_count": 6,
   "id": "e76d04c0",
   "metadata": {},
   "outputs": [
    {
     "data": {
      "text/html": [
       "<div>\n",
       "<style scoped>\n",
       "    .dataframe tbody tr th:only-of-type {\n",
       "        vertical-align: middle;\n",
       "    }\n",
       "\n",
       "    .dataframe tbody tr th {\n",
       "        vertical-align: top;\n",
       "    }\n",
       "\n",
       "    .dataframe thead th {\n",
       "        text-align: right;\n",
       "    }\n",
       "</style>\n",
       "<table border=\"1\" class=\"dataframe\">\n",
       "  <thead>\n",
       "    <tr style=\"text-align: right;\">\n",
       "      <th></th>\n",
       "      <th>Hours</th>\n",
       "      <th>Scores</th>\n",
       "    </tr>\n",
       "  </thead>\n",
       "  <tbody>\n",
       "    <tr>\n",
       "      <th>0</th>\n",
       "      <td>2.5</td>\n",
       "      <td>21</td>\n",
       "    </tr>\n",
       "    <tr>\n",
       "      <th>1</th>\n",
       "      <td>5.1</td>\n",
       "      <td>47</td>\n",
       "    </tr>\n",
       "    <tr>\n",
       "      <th>2</th>\n",
       "      <td>3.2</td>\n",
       "      <td>27</td>\n",
       "    </tr>\n",
       "    <tr>\n",
       "      <th>3</th>\n",
       "      <td>8.5</td>\n",
       "      <td>75</td>\n",
       "    </tr>\n",
       "    <tr>\n",
       "      <th>4</th>\n",
       "      <td>3.5</td>\n",
       "      <td>30</td>\n",
       "    </tr>\n",
       "  </tbody>\n",
       "</table>\n",
       "</div>"
      ],
      "text/plain": [
       "   Hours  Scores\n",
       "0    2.5      21\n",
       "1    5.1      47\n",
       "2    3.2      27\n",
       "3    8.5      75\n",
       "4    3.5      30"
      ]
     },
     "execution_count": 6,
     "metadata": {},
     "output_type": "execute_result"
    }
   ],
   "source": [
    "# Getting the first five values from dataset\n",
    "\n",
    "df.head()"
   ]
  },
  {
   "cell_type": "code",
   "execution_count": 7,
   "id": "4a4f3310",
   "metadata": {},
   "outputs": [
    {
     "name": "stdout",
     "output_type": "stream",
     "text": [
      "<class 'pandas.core.frame.DataFrame'>\n",
      "RangeIndex: 25 entries, 0 to 24\n",
      "Data columns (total 2 columns):\n",
      " #   Column  Non-Null Count  Dtype  \n",
      "---  ------  --------------  -----  \n",
      " 0   Hours   25 non-null     float64\n",
      " 1   Scores  25 non-null     int64  \n",
      "dtypes: float64(1), int64(1)\n",
      "memory usage: 528.0 bytes\n"
     ]
    }
   ],
   "source": [
    "# Concise summary of the dataset\n",
    "\n",
    "df.info()"
   ]
  },
  {
   "cell_type": "code",
   "execution_count": 8,
   "id": "b8a4e3e0",
   "metadata": {},
   "outputs": [
    {
     "data": {
      "text/plain": [
       "(25, 2)"
      ]
     },
     "execution_count": 8,
     "metadata": {},
     "output_type": "execute_result"
    }
   ],
   "source": [
    "# Dimensionality of the dataset i.e number of rows and columns\n",
    "\n",
    "df.shape"
   ]
  },
  {
   "cell_type": "code",
   "execution_count": 9,
   "id": "8005d7a4",
   "metadata": {},
   "outputs": [
    {
     "data": {
      "text/plain": [
       "Hours     0\n",
       "Scores    0\n",
       "dtype: int64"
      ]
     },
     "execution_count": 9,
     "metadata": {},
     "output_type": "execute_result"
    }
   ],
   "source": [
    "# Checking for null values\n",
    "\n",
    "df.isnull().sum()"
   ]
  },
  {
   "cell_type": "code",
   "execution_count": 10,
   "id": "49071d77",
   "metadata": {},
   "outputs": [
    {
     "data": {
      "text/html": [
       "<div>\n",
       "<style scoped>\n",
       "    .dataframe tbody tr th:only-of-type {\n",
       "        vertical-align: middle;\n",
       "    }\n",
       "\n",
       "    .dataframe tbody tr th {\n",
       "        vertical-align: top;\n",
       "    }\n",
       "\n",
       "    .dataframe thead th {\n",
       "        text-align: right;\n",
       "    }\n",
       "</style>\n",
       "<table border=\"1\" class=\"dataframe\">\n",
       "  <thead>\n",
       "    <tr style=\"text-align: right;\">\n",
       "      <th></th>\n",
       "      <th>Hours</th>\n",
       "      <th>Scores</th>\n",
       "    </tr>\n",
       "  </thead>\n",
       "  <tbody>\n",
       "    <tr>\n",
       "      <th>count</th>\n",
       "      <td>25.000000</td>\n",
       "      <td>25.000000</td>\n",
       "    </tr>\n",
       "    <tr>\n",
       "      <th>mean</th>\n",
       "      <td>5.012000</td>\n",
       "      <td>51.480000</td>\n",
       "    </tr>\n",
       "    <tr>\n",
       "      <th>std</th>\n",
       "      <td>2.525094</td>\n",
       "      <td>25.286887</td>\n",
       "    </tr>\n",
       "    <tr>\n",
       "      <th>min</th>\n",
       "      <td>1.100000</td>\n",
       "      <td>17.000000</td>\n",
       "    </tr>\n",
       "    <tr>\n",
       "      <th>25%</th>\n",
       "      <td>2.700000</td>\n",
       "      <td>30.000000</td>\n",
       "    </tr>\n",
       "    <tr>\n",
       "      <th>50%</th>\n",
       "      <td>4.800000</td>\n",
       "      <td>47.000000</td>\n",
       "    </tr>\n",
       "    <tr>\n",
       "      <th>75%</th>\n",
       "      <td>7.400000</td>\n",
       "      <td>75.000000</td>\n",
       "    </tr>\n",
       "    <tr>\n",
       "      <th>max</th>\n",
       "      <td>9.200000</td>\n",
       "      <td>95.000000</td>\n",
       "    </tr>\n",
       "  </tbody>\n",
       "</table>\n",
       "</div>"
      ],
      "text/plain": [
       "           Hours     Scores\n",
       "count  25.000000  25.000000\n",
       "mean    5.012000  51.480000\n",
       "std     2.525094  25.286887\n",
       "min     1.100000  17.000000\n",
       "25%     2.700000  30.000000\n",
       "50%     4.800000  47.000000\n",
       "75%     7.400000  75.000000\n",
       "max     9.200000  95.000000"
      ]
     },
     "execution_count": 10,
     "metadata": {},
     "output_type": "execute_result"
    }
   ],
   "source": [
    "# Statistical information of data\n",
    "\n",
    "df.describe()"
   ]
  },
  {
   "cell_type": "code",
   "execution_count": 12,
   "id": "ba68f764",
   "metadata": {},
   "outputs": [
    {
     "data": {
      "image/png": "[encoded data removed]",
      "text/plain": [
       "<Figure size 432x288 with 2 Axes>"
      ]
     },
     "metadata": {
      "needs_background": "light"
     },
     "output_type": "display_data"
    }
   ],
   "source": [
    "# Finding pairwise correlation of all columns\n",
    "\n",
    "sns.heatmap(df.corr() ,annot=True, cmap = 'Blues');"
   ]
  },
  {
   "cell_type": "code",
   "execution_count": 13,
   "id": "133fedfd",
   "metadata": {},
   "outputs": [
    {
     "data": {
      "image/png": "[encoded data removed]",
      "text/plain": [
       "<Figure size 432x288 with 1 Axes>"
      ]
     },
     "metadata": {
      "needs_background": "light"
     },
     "output_type": "display_data"
    }
   ],
   "source": [
    "# Visualising the dataset by plotting the data on a 2-D graph\n",
    "\n",
    "df.plot(x='Hours', y='Scores' , style = 'ro' , legend = True)\n",
    "plt.xlabel('NUMBER OF HOURS STUDIED')\n",
    "plt.ylabel('PERCENTAGE SCORE')\n",
    "plt.title('STUDY HOURS vs PERCENTAGE')\n",
    "plt.grid(alpha=0.5)\n",
    "plt.show()"
   ]
  },
  {
   "cell_type": "code",
   "execution_count": 14,
   "id": "c87b9186",
   "metadata": {},
   "outputs": [
    {
     "data": {
      "image/png": "[encoded data removed]",
      "text/plain": [
       "<Figure size 648x374.4 with 1 Axes>"
      ]
     },
     "metadata": {},
     "output_type": "display_data"
    }
   ],
   "source": [
    "# Visualising the dataset through Bar plot\n",
    "\n",
    "sns.set(rc={'figure.figsize':(9,5.2)})\n",
    "sns.barplot(x=df.Hours, y=df.Scores)\n",
    "plt.xlabel('NUMBER OF HOURS STUDIED')\n",
    "plt.ylabel('PERCENTAGE SCORE')\n",
    "plt.title('STUDY HOURS vs PERCENTAGE')\n",
    "plt.show()"
   ]
  },
  {
   "cell_type": "markdown",
   "id": "94d36b96",
   "metadata": {},
   "source": [
    "#### CONCLUSION\n",
    "From the above plots, it can be clearly seen that there is a positive linear relationship between number of hours studied and percentage score obtained by the student."
   ]
  },
  {
   "cell_type": "code",
   "execution_count": 15,
   "id": "984f95b1",
   "metadata": {},
   "outputs": [],
   "source": [
    "# Fitting the dataset\n",
    "\n",
    "x = df[['Hours']].values\n",
    "y = df[['Scores']].values"
   ]
  },
  {
   "cell_type": "code",
   "execution_count": 16,
   "id": "cd96d7a4",
   "metadata": {},
   "outputs": [
    {
     "name": "stdout",
     "output_type": "stream",
     "text": [
      "(20, 1) (5, 1) (20, 1) (5, 1)\n"
     ]
    }
   ],
   "source": [
    "# Splitting the data into training and test sets using Scikit Learn library\n",
    "# Here x is independent variable(input/attribute) and y is dependent variable(output/label)\n",
    "\n",
    "from sklearn.model_selection import train_test_split\n",
    "x_train,x_test,y_train,y_test=train_test_split(x, y, test_size=0.2, random_state=0)\n",
    "\n",
    "# Shape of training and test data:\n",
    "print(x_train.shape, x_test.shape, y_train.shape, y_test.shape)"
   ]
  },
  {
   "cell_type": "code",
   "execution_count": 17,
   "id": "11f873ea",
   "metadata": {},
   "outputs": [
    {
     "name": "stdout",
     "output_type": "stream",
     "text": [
      "Successfully completed Model Training.\n"
     ]
    }
   ],
   "source": [
    "# Training the model with linear regression algorithm\n",
    "\n",
    "from sklearn.linear_model import LinearRegression\n",
    "model = LinearRegression()\n",
    "model.fit(x_train , y_train)\n",
    "print('Successfully completed Model Training.')"
   ]
  },
  {
   "cell_type": "code",
   "execution_count": 18,
   "id": "41b48a80",
   "metadata": {},
   "outputs": [
    {
     "name": "stdout",
     "output_type": "stream",
     "text": [
      "Intercept: [2.01816004]\n",
      "Regression coefficient: [[9.91065648]]\n"
     ]
    }
   ],
   "source": [
    "# Model Parameters\n",
    "# Getting the regressor coefficient(slope) and constant(intercept) term\n",
    "\n",
    "print(\"Intercept:\", model.intercept_)\n",
    "print(\"Regression coefficient:\", model.coef_)"
   ]
  },
  {
   "cell_type": "code",
   "execution_count": 20,
   "id": "ce4d2639",
   "metadata": {},
   "outputs": [
    {
     "name": "stdout",
     "output_type": "stream",
     "text": [
      "TRAINSET ACCURACY ---->  0.9515510725211552\n",
      "TESTSET ACCURACY ---->  0.9454906892105356\n"
     ]
    }
   ],
   "source": [
    "# Estimating training and test scores\n",
    "\n",
    "print('TRAINSET ACCURACY ----> ', model.score(x_train, y_train))\n",
    "print('TESTSET ACCURACY ----> ', model.score(x_test, y_test))"
   ]
  },
  {
   "cell_type": "code",
   "execution_count": 21,
   "id": "c3a98a44",
   "metadata": {},
   "outputs": [
    {
     "data": {
      "image/png": "[encoded data removed]",
      "text/plain": [
       "<Figure size 648x374.4 with 1 Axes>"
      ]
     },
     "metadata": {},
     "output_type": "display_data"
    }
   ],
   "source": [
    "# Plotting the regression line\n",
    "\n",
    "plt.scatter(x, y)\n",
    "\n",
    "line = model.coef_*x + model.intercept_\n",
    "plt.plot(x, line, color = 'red')\n",
    "\n",
    "plt.xlabel(\"NUMBER OF HOURS STUDIED\")\n",
    "plt.ylabel(\"PERCENTAGE SCORE\")\n",
    "plt.show()"
   ]
  },
  {
   "cell_type": "code",
   "execution_count": 23,
   "id": "14c8c951",
   "metadata": {},
   "outputs": [
    {
     "data": {
      "text/html": [
       "<div>\n",
       "<style scoped>\n",
       "    .dataframe tbody tr th:only-of-type {\n",
       "        vertical-align: middle;\n",
       "    }\n",
       "\n",
       "    .dataframe tbody tr th {\n",
       "        vertical-align: top;\n",
       "    }\n",
       "\n",
       "    .dataframe thead th {\n",
       "        text-align: right;\n",
       "    }\n",
       "</style>\n",
       "<table border=\"1\" class=\"dataframe\">\n",
       "  <thead>\n",
       "    <tr style=\"text-align: right;\">\n",
       "      <th></th>\n",
       "      <th>Original</th>\n",
       "      <th>Predicted</th>\n",
       "    </tr>\n",
       "  </thead>\n",
       "  <tbody>\n",
       "    <tr>\n",
       "      <th>0</th>\n",
       "      <td>20</td>\n",
       "      <td>16.884145</td>\n",
       "    </tr>\n",
       "    <tr>\n",
       "      <th>1</th>\n",
       "      <td>27</td>\n",
       "      <td>33.732261</td>\n",
       "    </tr>\n",
       "    <tr>\n",
       "      <th>2</th>\n",
       "      <td>69</td>\n",
       "      <td>75.357018</td>\n",
       "    </tr>\n",
       "    <tr>\n",
       "      <th>3</th>\n",
       "      <td>30</td>\n",
       "      <td>26.794801</td>\n",
       "    </tr>\n",
       "    <tr>\n",
       "      <th>4</th>\n",
       "      <td>62</td>\n",
       "      <td>60.491033</td>\n",
       "    </tr>\n",
       "  </tbody>\n",
       "</table>\n",
       "</div>"
      ],
      "text/plain": [
       "   Original  Predicted\n",
       "0        20  16.884145\n",
       "1        27  33.732261\n",
       "2        69  75.357018\n",
       "3        30  26.794801\n",
       "4        62  60.491033"
      ]
     },
     "execution_count": 23,
     "metadata": {},
     "output_type": "execute_result"
    }
   ],
   "source": [
    "# Making prediction for training and test dataset\n",
    "\n",
    "y_pred_train = model.predict(x_train)\n",
    "y_pred_test = model.predict(x_test)\n",
    "\n",
    "# Comparing Original values with the Predicted data\n",
    "\n",
    "df_compare = pd.DataFrame({'Original': y_test.flatten(), 'Predicted': y_pred_test.flatten()})\n",
    "df_compare"
   ]
  },
  {
   "cell_type": "code",
   "execution_count": 24,
   "id": "14d4e231",
   "metadata": {},
   "outputs": [
    {
     "data": {
      "image/png": "[encoded data removed]",
      "text/plain": [
       "<Figure size 396x396 with 1 Axes>"
      ]
     },
     "metadata": {},
     "output_type": "display_data"
    }
   ],
   "source": [
    "df_compare.plot(kind='bar', figsize=(5.5,5.5))\n",
    "plt.xlabel('Number of Hours Student Studied')\n",
    "plt.ylabel('Percentage Score')\n",
    "plt.title('STUDY HOURS vs PERCENTAGE')\n",
    "plt.show()"
   ]
  },
  {
   "cell_type": "code",
   "execution_count": 25,
   "id": "9b84e02b",
   "metadata": {},
   "outputs": [
    {
     "name": "stdout",
     "output_type": "stream",
     "text": [
      "Mean Absolute Error : 4.183859899002975\n",
      "Mean Squared Error : 21.5987693072174\n",
      "Root Mean Square Error : 4.6474476121003665\n"
     ]
    }
   ],
   "source": [
    "# Measuring the regression performance\n",
    "\n",
    "from sklearn import metrics\n",
    "print(\"Mean Absolute Error :\" , metrics.mean_absolute_error(y_test, y_pred_test.flatten()))\n",
    "print(\"Mean Squared Error :\" , metrics.mean_squared_error(y_test, y_pred_test))\n",
    "print(\"Root Mean Square Error :\" , np.sqrt(metrics.mean_squared_error(y_test, y_pred_test.flatten())))"
   ]
  },
  {
   "cell_type": "code",
   "execution_count": 26,
   "id": "2ae83d62",
   "metadata": {},
   "outputs": [
    {
     "name": "stdout",
     "output_type": "stream",
     "text": [
      "#### stats on training dataset ####\n",
      "R-squared score: 0.9515510725211552\n",
      "#### stats on test dataset ####\n",
      "R-squared score: 0.9454906892105356\n"
     ]
    }
   ],
   "source": [
    "# Checking R-squared score of the model\n",
    "\n",
    "from sklearn.metrics import r2_score\n",
    "print(\"#### stats on training dataset ####\")\n",
    "print(\"R-squared score:\", r2_score(y_train, y_pred_train))\n",
    "print(\"#### stats on test dataset ####\")\n",
    "print(\"R-squared score:\", r2_score(y_test, y_pred_test))"
   ]
  },
  {
   "cell_type": "markdown",
   "id": "f0ca35ce",
   "metadata": {},
   "source": [
    "The r2_score represents the proportion of variance (of y) that has been explained by the independent variable in the model. It provides an indication of goodness of fit and therefore a measure of how well unseen samples are likely to be predicted by the model, through the proportion of explained variance."
   ]
  },
  {
   "cell_type": "code",
   "execution_count": null,
   "id": "951db4dc",
   "metadata": {},
   "outputs": [],
   "source": []
  }
 ],
 "metadata": {
  "kernelspec": {
   "display_name": "Python 3",
   "language": "python",
   "name": "python3"
  },
  "language_info": {
   "codemirror_mode": {
    "name": "ipython",
    "version": 3
   },
   "file_extension": ".py",
   "mimetype": "text/x-python",
   "name": "python",
   "nbconvert_exporter": "python",
   "pygments_lexer": "ipython3",
   "version": "3.8.8"
  }
 },
 "nbformat": 4,
 "nbformat_minor": 5
}
